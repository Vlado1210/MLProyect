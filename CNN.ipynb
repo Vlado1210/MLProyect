{
 "cells": [
  {
   "cell_type": "code",
   "execution_count": 1,
   "metadata": {
    "colab": {
     "base_uri": "https://localhost:8080/"
    },
    "id": "bTJrs4MA4_GB",
    "outputId": "144c7106-b4e6-4745-de77-2903ddcb094a"
   },
   "outputs": [
    {
     "name": "stdout",
     "output_type": "stream",
     "text": [
      "[0, 1]\n",
      "['with mask', 'without mask']\n",
      "{'with mask': 0, 'without mask': 1}\n"
     ]
    }
   ],
   "source": [
    "import cv2,os\n",
    "\n",
    "#Este bloque de código genera un diccionario de python con índice como valores y nombres de las carpetas como claves.\n",
    "\n",
    "ubidata='dataset'\n",
    "grupos=os.listdir(ubidata)\n",
    "identifier=[i for i in range(len(grupos))]\n",
    "\n",
    "groupandID=dict(zip(grupos,identifier))\n",
    "\n",
    "print(identifier)\n",
    "print(grupos)\n",
    "print(groupandID)"
   ]
  },
  {
   "cell_type": "code",
   "execution_count": 2,
   "metadata": {},
   "outputs": [
    {
     "name": "stdout",
     "output_type": "stream",
     "text": [
      "Requirement already satisfied: opencv-python in c:\\users\\vlady\\anaconda3\\envs\\tf\\lib\\site-packages (4.6.0.66)\n",
      "Requirement already satisfied: numpy>=1.14.5 in c:\\users\\vlady\\anaconda3\\envs\\tf\\lib\\site-packages (from opencv-python) (1.21.5)\n"
     ]
    }
   ],
   "source": [
    "!pip install opencv-python"
   ]
  },
  {
   "cell_type": "code",
   "execution_count": 3,
   "metadata": {},
   "outputs": [
    {
     "data": {
      "text/plain": [
       "'C:\\\\Users\\\\vlady'"
      ]
     },
     "execution_count": 3,
     "metadata": {},
     "output_type": "execute_result"
    }
   ],
   "source": [
    "pwd\n"
   ]
  },
  {
   "cell_type": "code",
   "execution_count": 4,
   "metadata": {
    "colab": {
     "base_uri": "https://localhost:8080/"
    },
    "id": "z7_ZG_QH4_GF",
    "outputId": "2143a38c-3386-4f80-8db6-e1b4de7e3361"
   },
   "outputs": [],
   "source": [
    "#Ahora crearemos dos listas vacías y agregaremos las imágenes y sus respectivos\n",
    "#identificador en estas listas.\n",
    "#PREPROCESSING\n",
    "#Principal Component Analysis: PCA reduces data by geometrically projecting them onto lower dimensions \n",
    "#called principal components(PCs), CA is used in • exploratory data analysis • \n",
    "#for making predictive models • for dimensionality reduction\n",
    "\n",
    "#Al cambiar el tamaño de estas imágenes y convertirla en escala de grises.\n",
    "#usando OpenCV, para que todas nuestras imágenes sean del mismo tamaño y\n",
    "#tener canales del mismo color.\n",
    "data=[]\n",
    "target=[]\n",
    "tamañoimagen=100\n",
    "\n",
    "\n",
    "for category in grupos:\n",
    "    ubicarpetag=os.path.join(ubidata,category)\n",
    "    listanomimagenes=os.listdir(ubicarpetag)\n",
    "        \n",
    "    for nombreimagen in listanomimagenes:\n",
    "        ubiimagen=os.path.join(ubicarpetag,nombreimagen)\n",
    "        imagen=cv2.imread(ubiimagen)\n",
    "\n",
    "        try:\n",
    "            #Aqui se convierte la imagen a escala de grises\n",
    "            imgenbn=cv2.cvtColor(imagen,cv2.COLOR_BGR2GRAY)           \n",
    "            #Aqui cambiamos el tamaño de la escala de grises a 100x100\n",
    "            #necesitamos un tamaño común fijo para todas las imágenes en el conjunto de datos\n",
    "            resized=cv2.resize(imgenbn,(tamañoimagen,tamañoimagen))\n",
    "            data.append(resized)\n",
    "            target.append(groupandID[category])\n",
    "            #juntamos la imagen y la etiqueta (categorizada) en la lista (conjunto de datos)\n",
    "\n",
    "        except Exception as e:\n",
    "            print('Exception:',e)\n",
    "            #si ocurre alguna excepción, la excepción se imprimirá aquí. Y pasa a la siguiente imagen."
   ]
  },
  {
   "cell_type": "code",
   "execution_count": 5,
   "metadata": {},
   "outputs": [
    {
     "name": "stdout",
     "output_type": "stream",
     "text": [
      "Requirement already satisfied: scikit-learn in c:\\users\\vlady\\anaconda3\\envs\\tf\\lib\\site-packages (1.0.2)\n",
      "Requirement already satisfied: threadpoolctl>=2.0.0 in c:\\users\\vlady\\anaconda3\\envs\\tf\\lib\\site-packages (from scikit-learn) (3.1.0)\n",
      "Requirement already satisfied: scipy>=1.1.0 in c:\\users\\vlady\\anaconda3\\envs\\tf\\lib\\site-packages (from scikit-learn) (1.7.3)\n",
      "Requirement already satisfied: numpy>=1.14.6 in c:\\users\\vlady\\anaconda3\\envs\\tf\\lib\\site-packages (from scikit-learn) (1.21.5)\n",
      "Requirement already satisfied: joblib>=0.11 in c:\\users\\vlady\\anaconda3\\envs\\tf\\lib\\site-packages (from scikit-learn) (1.2.0)\n"
     ]
    }
   ],
   "source": [
    "!pip install scikit-learn"
   ]
  },
  {
   "cell_type": "code",
   "execution_count": 6,
   "metadata": {},
   "outputs": [],
   "source": [
    "from sklearn.model_selection import train_test_split"
   ]
  },
  {
   "cell_type": "code",
   "execution_count": 7,
   "metadata": {
    "id": "CKX2QZZL4_GH"
   },
   "outputs": [],
   "source": [
    "#El siguiente paso es normalizar el rango de color entre (0 a 255) a (0 a 1)\n",
    "#al dividir los datos por 255.0. También remodelaremos estas imágenes en una matriz numpy\n",
    "# de 4 dimensiones. En cuanto a las etiquetas, usaremos onehot encoding para convertirlos en 0 y 1. \n",
    "#np_utils.to_categorical es la función que usaremos realiza el onehot encoding\n",
    "#esto crea nuevas columnas (binarias) que indican la presencia de cada valor posible a partir de los datos originales..\n",
    "import numpy as np\n",
    "\n",
    "target=np.array(target)\n",
    "data=np.array(data)/255.0\n",
    "data=np.reshape(data,(data.shape[0],tamañoimagen,tamañoimagen,1))\n",
    "\n",
    "from keras.utils import np_utils\n",
    "\n",
    "new_target=np_utils.to_categorical(target)"
   ]
  },
  {
   "cell_type": "code",
   "execution_count": 8,
   "metadata": {
    "id": "LtSLwOOE4_GI"
   },
   "outputs": [],
   "source": [
    "#CONSTRUCCIÓN Y ENTRENAMIENTO DEL MODELO\n",
    "# guardaremos las matrices data y target en un archivo numpy.\n",
    "#Para que podamos usar estos datos y cargarlos en el futuro.\n",
    "\n",
    "np.save('data',data)\n",
    "np.save('target',new_target)"
   ]
  },
  {
   "cell_type": "code",
   "execution_count": 9,
   "metadata": {
    "id": "APY119Ao4_GJ"
   },
   "outputs": [],
   "source": [
    "import numpy as np\n",
    "\n",
    "data=np.load('data.npy')\n",
    "target=np.load('target.npy')\n",
    "\n",
    "#cargando las matrices guardadas"
   ]
  },
  {
   "cell_type": "code",
   "execution_count": 10,
   "metadata": {
    "id": "GgcdsQU07FTl"
   },
   "outputs": [],
   "source": [
    "# Aqui creamos una Convolutional Neural Network usando keras.\n",
    "\n",
    "from keras.models import Sequential\n",
    "from keras.callbacks import ModelCheckpoint\n",
    "from keras.layers import Conv2D,MaxPooling2D\n",
    "from keras.layers import Dense,Activation,Flatten,Dropout\n",
    "\n",
    "\n",
    "modelo=Sequential()\n",
    "\n",
    "modelo.add(Conv2D(100,(3,3),input_shape=data.shape[1:]))\n",
    "modelo.add(Activation('relu'))\n",
    "modelo.add(MaxPooling2D(pool_size=(2,2)))\n",
    "#La primera capa de la CNN seguida de la activation y MaxPooling\n",
    "#la capa activation decide si una neurona (nodo) debe activarse o no. \n",
    "#Decidirá si la entrada de la neurona a la red es importante o no en el proceso de predicción.\n",
    "#Maxpooling2d Reduce la muestra de entrada (alto y ancho) tomando el valor máximo sobre una entrada definida por pool_size) \n",
    "#para cada canal de la entrada.\n",
    "\n",
    "modelo.add(Conv2D(100,(3,3)))\n",
    "modelo.add(Activation('relu'))\n",
    "modelo.add(MaxPooling2D(pool_size=(2,2)))\n",
    "#La segunda capa de la cnn\n",
    "\n",
    "modelo.add(Flatten())\n",
    "modelo.add(Dropout(0.5))\n",
    "#La función flatten aplana los tensores de entrada multidimensionales en una sola dimensión, \n",
    "#para poder modelar su capa de entrada y construir el modelo de red neuronal\n",
    "modelo.add(Dense(50,activation='relu'))\n",
    "#Dense layer de 64 neuronas, Recibe entrada de todas las neuronas en la capa anterior y produce la salida resultante como un vector\n",
    "#Se utiliza con mayor frecuencia para la manipulación de vectores para cambiar las dimensiones de los vectores.\n",
    "modelo.add(Dense(2,activation='softmax'))\n",
    "#La capa final con dos salidas para dos categorías\n",
    "\n",
    "modelo.compile(loss='binary_crossentropy',optimizer='adam',metrics=['accuracy'])"
   ]
  },
  {
   "cell_type": "code",
   "execution_count": 11,
   "metadata": {
    "id": "fVddpPlE7JBg"
   },
   "outputs": [],
   "source": [
    "#The next step is quite crucial , which is performing the train-test split.\n",
    "#Train-test split is very necessary in Machine learning to get an idea\n",
    "#of how good and accurate our model is on unseen data. A model gains all the \n",
    "#features during train and thus it becomes really important to check it’s\n",
    "#performance on data it has not even seen yet. We’ll use sklearn to perform \n",
    "#train-test split.\n",
    "#El próximo paso es bastante crucial, que es realizar el train-test split.\n",
    "#es muy importante para tener una idea de qué tan bueno y preciso es nuestro modelo.\n",
    "#Un modelo gana todos las características durante el entrenamiento por lo que lo dividiremos 90% training, 10% testing\n",
    "#usaremos sklearn para realizar este split.\n",
    "from sklearn.model_selection import train_test_split\n",
    "\n",
    "xdata,ydata,xtarget,ytarget=train_test_split(data,target,test_size=0.1)"
   ]
  },
  {
   "cell_type": "code",
   "execution_count": 12,
   "metadata": {
    "colab": {
     "base_uri": "https://localhost:8080/"
    },
    "id": "2Noc6LAC7NCM",
    "outputId": "34307904-83ca-461a-c41f-e0459752cc69"
   },
   "outputs": [
    {
     "name": "stdout",
     "output_type": "stream",
     "text": [
      "Epoch 1/20\n",
      "18/18 [==============================] - ETA: 0s - loss: 0.7079 - accuracy: 0.6823"
     ]
    },
    {
     "name": "stderr",
     "output_type": "stream",
     "text": [
      "WARNING:absl:Found untraced functions such as _jit_compiled_convolution_op, _jit_compiled_convolution_op while saving (showing 2 of 2). These functions will not be directly callable after loading.\n"
     ]
    },
    {
     "name": "stdout",
     "output_type": "stream",
     "text": [
      "INFO:tensorflow:Assets written to: modelo-001.model\\assets\n"
     ]
    },
    {
     "name": "stderr",
     "output_type": "stream",
     "text": [
      "INFO:tensorflow:Assets written to: modelo-001.model\\assets\n"
     ]
    },
    {
     "name": "stdout",
     "output_type": "stream",
     "text": [
      "18/18 [==============================] - 28s 2s/step - loss: 0.7079 - accuracy: 0.6823 - val_loss: 0.6781 - val_accuracy: 0.6331\n",
      "Epoch 2/20\n",
      "18/18 [==============================] - ETA: 0s - loss: 0.6128 - accuracy: 0.6841"
     ]
    },
    {
     "name": "stderr",
     "output_type": "stream",
     "text": [
      "WARNING:absl:Found untraced functions such as _jit_compiled_convolution_op, _jit_compiled_convolution_op while saving (showing 2 of 2). These functions will not be directly callable after loading.\n"
     ]
    },
    {
     "name": "stdout",
     "output_type": "stream",
     "text": [
      "INFO:tensorflow:Assets written to: modelo-002.model\\assets\n"
     ]
    },
    {
     "name": "stderr",
     "output_type": "stream",
     "text": [
      "INFO:tensorflow:Assets written to: modelo-002.model\\assets\n"
     ]
    },
    {
     "name": "stdout",
     "output_type": "stream",
     "text": [
      "18/18 [==============================] - 23s 1s/step - loss: 0.6128 - accuracy: 0.6841 - val_loss: 0.6253 - val_accuracy: 0.6475\n",
      "Epoch 3/20\n",
      "18/18 [==============================] - ETA: 0s - loss: 0.5272 - accuracy: 0.7744"
     ]
    },
    {
     "name": "stderr",
     "output_type": "stream",
     "text": [
      "WARNING:absl:Found untraced functions such as _jit_compiled_convolution_op, _jit_compiled_convolution_op while saving (showing 2 of 2). These functions will not be directly callable after loading.\n"
     ]
    },
    {
     "name": "stdout",
     "output_type": "stream",
     "text": [
      "INFO:tensorflow:Assets written to: modelo-003.model\\assets\n"
     ]
    },
    {
     "name": "stderr",
     "output_type": "stream",
     "text": [
      "INFO:tensorflow:Assets written to: modelo-003.model\\assets\n"
     ]
    },
    {
     "name": "stdout",
     "output_type": "stream",
     "text": [
      "18/18 [==============================] - 22s 1s/step - loss: 0.5272 - accuracy: 0.7744 - val_loss: 0.5405 - val_accuracy: 0.7266\n",
      "Epoch 4/20\n",
      "18/18 [==============================] - ETA: 0s - loss: 0.4037 - accuracy: 0.8610"
     ]
    },
    {
     "name": "stderr",
     "output_type": "stream",
     "text": [
      "WARNING:absl:Found untraced functions such as _jit_compiled_convolution_op, _jit_compiled_convolution_op while saving (showing 2 of 2). These functions will not be directly callable after loading.\n"
     ]
    },
    {
     "name": "stdout",
     "output_type": "stream",
     "text": [
      "INFO:tensorflow:Assets written to: modelo-004.model\\assets\n"
     ]
    },
    {
     "name": "stderr",
     "output_type": "stream",
     "text": [
      "INFO:tensorflow:Assets written to: modelo-004.model\\assets\n"
     ]
    },
    {
     "name": "stdout",
     "output_type": "stream",
     "text": [
      "18/18 [==============================] - 23s 1s/step - loss: 0.4037 - accuracy: 0.8610 - val_loss: 0.3771 - val_accuracy: 0.8633\n",
      "Epoch 5/20\n",
      "18/18 [==============================] - ETA: 0s - loss: 0.3016 - accuracy: 0.8953"
     ]
    },
    {
     "name": "stderr",
     "output_type": "stream",
     "text": [
      "WARNING:absl:Found untraced functions such as _jit_compiled_convolution_op, _jit_compiled_convolution_op while saving (showing 2 of 2). These functions will not be directly callable after loading.\n"
     ]
    },
    {
     "name": "stdout",
     "output_type": "stream",
     "text": [
      "INFO:tensorflow:Assets written to: modelo-005.model\\assets\n"
     ]
    },
    {
     "name": "stderr",
     "output_type": "stream",
     "text": [
      "INFO:tensorflow:Assets written to: modelo-005.model\\assets\n"
     ]
    },
    {
     "name": "stdout",
     "output_type": "stream",
     "text": [
      "18/18 [==============================] - 21s 1s/step - loss: 0.3016 - accuracy: 0.8953 - val_loss: 0.3372 - val_accuracy: 0.8705\n",
      "Epoch 6/20\n",
      "18/18 [==============================] - ETA: 0s - loss: 0.2549 - accuracy: 0.9061"
     ]
    },
    {
     "name": "stderr",
     "output_type": "stream",
     "text": [
      "WARNING:absl:Found untraced functions such as _jit_compiled_convolution_op, _jit_compiled_convolution_op while saving (showing 2 of 2). These functions will not be directly callable after loading.\n"
     ]
    },
    {
     "name": "stdout",
     "output_type": "stream",
     "text": [
      "INFO:tensorflow:Assets written to: modelo-006.model\\assets\n"
     ]
    },
    {
     "name": "stderr",
     "output_type": "stream",
     "text": [
      "INFO:tensorflow:Assets written to: modelo-006.model\\assets\n"
     ]
    },
    {
     "name": "stdout",
     "output_type": "stream",
     "text": [
      "18/18 [==============================] - 22s 1s/step - loss: 0.2549 - accuracy: 0.9061 - val_loss: 0.3035 - val_accuracy: 0.8705\n",
      "Epoch 7/20\n",
      "18/18 [==============================] - 18s 1s/step - loss: 0.2399 - accuracy: 0.9061 - val_loss: 0.3086 - val_accuracy: 0.8633\n",
      "Epoch 8/20\n",
      "18/18 [==============================] - ETA: 0s - loss: 0.1868 - accuracy: 0.9350"
     ]
    },
    {
     "name": "stderr",
     "output_type": "stream",
     "text": [
      "WARNING:absl:Found untraced functions such as _jit_compiled_convolution_op, _jit_compiled_convolution_op while saving (showing 2 of 2). These functions will not be directly callable after loading.\n"
     ]
    },
    {
     "name": "stdout",
     "output_type": "stream",
     "text": [
      "INFO:tensorflow:Assets written to: modelo-008.model\\assets\n"
     ]
    },
    {
     "name": "stderr",
     "output_type": "stream",
     "text": [
      "INFO:tensorflow:Assets written to: modelo-008.model\\assets\n"
     ]
    },
    {
     "name": "stdout",
     "output_type": "stream",
     "text": [
      "18/18 [==============================] - 23s 1s/step - loss: 0.1868 - accuracy: 0.9350 - val_loss: 0.2783 - val_accuracy: 0.8849\n",
      "Epoch 9/20\n",
      "18/18 [==============================] - 20s 1s/step - loss: 0.1446 - accuracy: 0.9531 - val_loss: 0.3039 - val_accuracy: 0.8705\n",
      "Epoch 10/20\n",
      "18/18 [==============================] - ETA: 0s - loss: 0.1479 - accuracy: 0.9513"
     ]
    },
    {
     "name": "stderr",
     "output_type": "stream",
     "text": [
      "WARNING:absl:Found untraced functions such as _jit_compiled_convolution_op, _jit_compiled_convolution_op while saving (showing 2 of 2). These functions will not be directly callable after loading.\n"
     ]
    },
    {
     "name": "stdout",
     "output_type": "stream",
     "text": [
      "INFO:tensorflow:Assets written to: modelo-010.model\\assets\n"
     ]
    },
    {
     "name": "stderr",
     "output_type": "stream",
     "text": [
      "INFO:tensorflow:Assets written to: modelo-010.model\\assets\n"
     ]
    },
    {
     "name": "stdout",
     "output_type": "stream",
     "text": [
      "18/18 [==============================] - 22s 1s/step - loss: 0.1479 - accuracy: 0.9513 - val_loss: 0.2346 - val_accuracy: 0.9065\n",
      "Epoch 11/20\n",
      "18/18 [==============================] - 20s 1s/step - loss: 0.1186 - accuracy: 0.9567 - val_loss: 0.3070 - val_accuracy: 0.8849\n",
      "Epoch 12/20\n",
      "18/18 [==============================] - 18s 999ms/step - loss: 0.1220 - accuracy: 0.9585 - val_loss: 0.2686 - val_accuracy: 0.8849\n",
      "Epoch 13/20\n",
      "18/18 [==============================] - 17s 937ms/step - loss: 0.1127 - accuracy: 0.9729 - val_loss: 0.2744 - val_accuracy: 0.8921\n",
      "Epoch 14/20\n",
      "18/18 [==============================] - 18s 978ms/step - loss: 0.1120 - accuracy: 0.9657 - val_loss: 0.2678 - val_accuracy: 0.8777\n",
      "Epoch 15/20\n",
      "18/18 [==============================] - 17s 946ms/step - loss: 0.1737 - accuracy: 0.9386 - val_loss: 0.2799 - val_accuracy: 0.8489\n",
      "Epoch 16/20\n",
      "18/18 [==============================] - 18s 1s/step - loss: 0.1106 - accuracy: 0.9621 - val_loss: 0.2507 - val_accuracy: 0.8993\n",
      "Epoch 17/20\n",
      "18/18 [==============================] - 17s 953ms/step - loss: 0.0671 - accuracy: 0.9765 - val_loss: 0.2881 - val_accuracy: 0.8705\n",
      "Epoch 18/20\n",
      "18/18 [==============================] - 16s 902ms/step - loss: 0.0783 - accuracy: 0.9729 - val_loss: 0.3131 - val_accuracy: 0.8921\n",
      "Epoch 19/20\n",
      "18/18 [==============================] - 17s 933ms/step - loss: 0.0424 - accuracy: 0.9892 - val_loss: 0.2751 - val_accuracy: 0.8921\n",
      "Epoch 20/20\n",
      "18/18 [==============================] - 16s 911ms/step - loss: 0.0392 - accuracy: 0.9910 - val_loss: 0.4007 - val_accuracy: 0.8849\n"
     ]
    }
   ],
   "source": [
    "#Es hora de crear puntos de control para guardar el mejor modelo y luego entrenar a nuestro modelo.\n",
    "checkpoint = ModelCheckpoint('modelo-{epoch:03d}.model',monitor='val_loss',verbose=0,save_best_only=True,mode='auto')\n",
    "history=modelo.fit(xdata,xtarget,epochs=20,callbacks=[checkpoint],validation_split=0.2)"
   ]
  },
  {
   "cell_type": "code",
   "execution_count": 13,
   "metadata": {},
   "outputs": [
    {
     "name": "stdout",
     "output_type": "stream",
     "text": [
      "Requirement already satisfied: matplotlib in c:\\users\\vlady\\anaconda3\\envs\\tf\\lib\\site-packages (3.5.3)\n",
      "Requirement already satisfied: python-dateutil>=2.7 in c:\\users\\vlady\\anaconda3\\envs\\tf\\lib\\site-packages (from matplotlib) (2.8.2)\n",
      "Requirement already satisfied: numpy>=1.17 in c:\\users\\vlady\\anaconda3\\envs\\tf\\lib\\site-packages (from matplotlib) (1.21.5)\n",
      "Requirement already satisfied: cycler>=0.10 in c:\\users\\vlady\\anaconda3\\envs\\tf\\lib\\site-packages (from matplotlib) (0.11.0)\n",
      "Requirement already satisfied: packaging>=20.0 in c:\\users\\vlady\\anaconda3\\envs\\tf\\lib\\site-packages (from matplotlib) (21.3)\n",
      "Requirement already satisfied: pillow>=6.2.0 in c:\\users\\vlady\\anaconda3\\envs\\tf\\lib\\site-packages (from matplotlib) (9.3.0)\n",
      "Requirement already satisfied: pyparsing>=2.2.1 in c:\\users\\vlady\\anaconda3\\envs\\tf\\lib\\site-packages (from matplotlib) (3.0.9)\n",
      "Requirement already satisfied: kiwisolver>=1.0.1 in c:\\users\\vlady\\anaconda3\\envs\\tf\\lib\\site-packages (from matplotlib) (1.4.4)\n",
      "Requirement already satisfied: fonttools>=4.22.0 in c:\\users\\vlady\\anaconda3\\envs\\tf\\lib\\site-packages (from matplotlib) (4.38.0)\n",
      "Requirement already satisfied: typing-extensions in c:\\users\\vlady\\anaconda3\\envs\\tf\\lib\\site-packages (from kiwisolver>=1.0.1->matplotlib) (4.3.0)\n",
      "Requirement already satisfied: six>=1.5 in c:\\users\\vlady\\anaconda3\\envs\\tf\\lib\\site-packages (from python-dateutil>=2.7->matplotlib) (1.16.0)\n"
     ]
    }
   ],
   "source": [
    "!pip install matplotlib"
   ]
  },
  {
   "cell_type": "code",
   "execution_count": 14,
   "metadata": {
    "colab": {
     "base_uri": "https://localhost:8080/",
     "height": 279
    },
    "id": "M1cUdGN17YtR",
    "outputId": "a3c03489-bd42-4620-9a08-e5858461c1ea"
   },
   "outputs": [
    {
     "data": {
      "image/png": "[encoded data removed]",
      "text/plain": [
       "<Figure size 640x480 with 1 Axes>"
      ]
     },
     "metadata": {},
     "output_type": "display_data"
    }
   ],
   "source": [
    "\n",
    "#Hcemos las graficas\n",
    "from matplotlib import pyplot as plt\n",
    "\n",
    "plt.plot(history.history['loss'],'r',label='training loss')\n",
    "plt.plot(history.history['val_loss'],label='validation loss')\n",
    "plt.xlabel('# epochs')\n",
    "plt.ylabel('loss')\n",
    "plt.legend()\n",
    "plt.show()"
   ]
  },
  {
   "cell_type": "code",
   "execution_count": 15,
   "metadata": {
    "colab": {
     "base_uri": "https://localhost:8080/",
     "height": 279
    },
    "id": "y3lSuXWt7fjE",
    "outputId": "0cf15e78-ac6c-4663-9a07-f9754e2b3be6"
   },
   "outputs": [
    {
     "data": {
      "image/png": "[encoded data removed]",
      "text/plain": [
       "<Figure size 640x480 with 1 Axes>"
      ]
     },
     "metadata": {},
     "output_type": "display_data"
    }
   ],
   "source": [
    "plt.plot(history.history['accuracy'],'r',label='training accuracy')\n",
    "plt.plot(history.history['val_accuracy'],label='validation accuracy')\n",
    "plt.xlabel('# epochs')\n",
    "plt.ylabel('loss')\n",
    "plt.legend()\n",
    "plt.show()"
   ]
  },
  {
   "cell_type": "code",
   "execution_count": 16,
   "metadata": {
    "colab": {
     "base_uri": "https://localhost:8080/"
    },
    "id": "l9cl8v_V8I_k",
    "outputId": "d407f82a-3bf2-4e43-c6e4-e3c9a1733daa"
   },
   "outputs": [
    {
     "name": "stdout",
     "output_type": "stream",
     "text": [
      "3/3 [==============================] - 0s 115ms/step - loss: 0.6061 - accuracy: 0.8571\n",
      "[0.606054961681366, 0.8571428656578064]\n"
     ]
    }
   ],
   "source": [
    "print(modelo.evaluate(ydata,ytarget))"
   ]
  },
  {
   "cell_type": "code",
   "execution_count": 18,
   "metadata": {
    "id": "ZLbdaCM08SIO"
   },
   "outputs": [],
   "source": [
    "from keras.models import load_model\n",
    "import cv2\n",
    "import numpy as np"
   ]
  },
  {
   "cell_type": "code",
   "execution_count": 19,
   "metadata": {
    "id": "avvOjQyw8VIK"
   },
   "outputs": [],
   "source": [
    "#A partir de aca se carga el modelo y se usa cascadeclassifier para capturar rostros usando la webcam\n",
    "modelo = load_model('modelo-012.model')\n",
    "\n",
    "detectacara=cv2.CascadeClassifier(cv2.data.haarcascades +'haarcascade_frontalface_default.xml')\n",
    "\n",
    "fuente=cv2.VideoCapture(0)\n",
    "\n",
    "IDs={0:'with_mask',1:'without_mask'}\n",
    "Rojooverde={0:(0,255,0),1:(0,0,255)}"
   ]
  },
  {
   "cell_type": "code",
   "execution_count": 20,
   "metadata": {
    "colab": {
     "base_uri": "https://localhost:8080/",
     "height": 1000
    },
    "id": "JGdXhIWJ_CRr",
    "outputId": "769a7917-af46-45dd-eb5b-833f80d73f18"
   },
   "outputs": [
    {
     "name": "stdout",
     "output_type": "stream",
     "text": [
      "1/1 [==============================] - 0s 110ms/step\n",
      "1/1 [==============================] - 0s 26ms/step\n",
      "1/1 [==============================] - 0s 25ms/step\n",
      "1/1 [==============================] - 0s 41ms/step\n",
      "1/1 [==============================] - 0s 45ms/step\n",
      "1/1 [==============================] - 0s 43ms/step\n",
      "1/1 [==============================] - 0s 41ms/step\n",
      "1/1 [==============================] - 0s 39ms/step\n",
      "1/1 [==============================] - 0s 48ms/step\n",
      "1/1 [==============================] - 0s 53ms/step\n",
      "1/1 [==============================] - 0s 47ms/step\n",
      "1/1 [==============================] - 0s 39ms/step\n",
      "1/1 [==============================] - 0s 42ms/step\n",
      "1/1 [==============================] - 0s 44ms/step\n",
      "1/1 [==============================] - 0s 44ms/step\n",
      "1/1 [==============================] - 0s 51ms/step\n",
      "1/1 [==============================] - 0s 42ms/step\n",
      "1/1 [==============================] - 0s 45ms/step\n",
      "1/1 [==============================] - 0s 42ms/step\n",
      "1/1 [==============================] - 0s 42ms/step\n",
      "1/1 [==============================] - 0s 48ms/step\n",
      "1/1 [==============================] - 0s 49ms/step\n",
      "1/1 [==============================] - 0s 46ms/step\n",
      "1/1 [==============================] - 0s 40ms/step\n",
      "1/1 [==============================] - 0s 42ms/step\n",
      "1/1 [==============================] - 0s 49ms/step\n",
      "1/1 [==============================] - 0s 44ms/step\n",
      "1/1 [==============================] - 0s 49ms/step\n",
      "1/1 [==============================] - 0s 51ms/step\n",
      "1/1 [==============================] - 0s 39ms/step\n",
      "1/1 [==============================] - 0s 51ms/step\n",
      "1/1 [==============================] - 0s 51ms/step\n",
      "1/1 [==============================] - 0s 45ms/step\n",
      "1/1 [==============================] - 0s 34ms/step\n",
      "1/1 [==============================] - 0s 52ms/step\n",
      "1/1 [==============================] - 0s 41ms/step\n",
      "1/1 [==============================] - 0s 52ms/step\n",
      "1/1 [==============================] - 0s 36ms/step\n",
      "1/1 [==============================] - 0s 34ms/step\n",
      "1/1 [==============================] - 0s 49ms/step\n",
      "1/1 [==============================] - 0s 35ms/step\n",
      "1/1 [==============================] - 0s 45ms/step\n",
      "1/1 [==============================] - 0s 37ms/step\n",
      "1/1 [==============================] - 0s 34ms/step\n",
      "1/1 [==============================] - 0s 46ms/step\n",
      "1/1 [==============================] - 0s 39ms/step\n",
      "1/1 [==============================] - 0s 36ms/step\n",
      "1/1 [==============================] - 0s 48ms/step\n",
      "1/1 [==============================] - 0s 36ms/step\n",
      "1/1 [==============================] - 0s 35ms/step\n",
      "1/1 [==============================] - 0s 35ms/step\n",
      "1/1 [==============================] - 0s 51ms/step\n",
      "1/1 [==============================] - 0s 36ms/step\n",
      "1/1 [==============================] - 0s 33ms/step\n",
      "1/1 [==============================] - 0s 50ms/step\n",
      "1/1 [==============================] - 0s 54ms/step\n",
      "1/1 [==============================] - 0s 48ms/step\n",
      "1/1 [==============================] - 0s 48ms/step\n",
      "1/1 [==============================] - 0s 39ms/step\n",
      "1/1 [==============================] - 0s 40ms/step\n",
      "1/1 [==============================] - 0s 49ms/step\n",
      "1/1 [==============================] - 0s 42ms/step\n",
      "1/1 [==============================] - 0s 45ms/step\n",
      "1/1 [==============================] - 0s 51ms/step\n",
      "1/1 [==============================] - 0s 36ms/step\n",
      "1/1 [==============================] - 0s 45ms/step\n",
      "1/1 [==============================] - 0s 44ms/step\n",
      "1/1 [==============================] - 0s 34ms/step\n",
      "1/1 [==============================] - 0s 33ms/step\n",
      "1/1 [==============================] - 0s 48ms/step\n",
      "1/1 [==============================] - 0s 50ms/step\n",
      "1/1 [==============================] - 0s 38ms/step\n",
      "1/1 [==============================] - 0s 48ms/step\n",
      "1/1 [==============================] - 0s 49ms/step\n",
      "1/1 [==============================] - 0s 45ms/step\n",
      "1/1 [==============================] - 0s 45ms/step\n",
      "1/1 [==============================] - 0s 45ms/step\n",
      "1/1 [==============================] - 0s 41ms/step\n",
      "1/1 [==============================] - 0s 48ms/step\n",
      "1/1 [==============================] - 0s 34ms/step\n",
      "1/1 [==============================] - 0s 49ms/step\n",
      "1/1 [==============================] - 0s 49ms/step\n",
      "1/1 [==============================] - 0s 37ms/step\n",
      "1/1 [==============================] - 0s 45ms/step\n",
      "1/1 [==============================] - 0s 49ms/step\n",
      "1/1 [==============================] - 0s 47ms/step\n",
      "1/1 [==============================] - 0s 34ms/step\n",
      "1/1 [==============================] - 0s 32ms/step\n",
      "1/1 [==============================] - 0s 50ms/step\n",
      "1/1 [==============================] - 0s 35ms/step\n",
      "1/1 [==============================] - 0s 48ms/step\n",
      "1/1 [==============================] - 0s 47ms/step\n",
      "1/1 [==============================] - 0s 46ms/step\n",
      "1/1 [==============================] - 0s 40ms/step\n",
      "1/1 [==============================] - 0s 39ms/step\n",
      "1/1 [==============================] - 0s 40ms/step\n",
      "1/1 [==============================] - 0s 35ms/step\n",
      "1/1 [==============================] - 0s 48ms/step\n",
      "1/1 [==============================] - 0s 45ms/step\n"
     ]
    },
    {
     "ename": "KeyboardInterrupt",
     "evalue": "",
     "output_type": "error",
     "traceback": [
      "\u001b[1;31m---------------------------------------------------------------------------\u001b[0m",
      "\u001b[1;31mKeyboardInterrupt\u001b[0m                         Traceback (most recent call last)",
      "\u001b[1;32m~\\AppData\\Local\\Temp\\ipykernel_18492\\356470041.py\u001b[0m in \u001b[0;36m<module>\u001b[1;34m\u001b[0m\n\u001b[0;32m      1\u001b[0m \u001b[1;32mwhile\u001b[0m\u001b[1;33m(\u001b[0m\u001b[1;32mTrue\u001b[0m\u001b[1;33m)\u001b[0m\u001b[1;33m:\u001b[0m\u001b[1;33m\u001b[0m\u001b[1;33m\u001b[0m\u001b[0m\n\u001b[0;32m      2\u001b[0m \u001b[1;33m\u001b[0m\u001b[0m\n\u001b[1;32m----> 3\u001b[1;33m     \u001b[0mret\u001b[0m\u001b[1;33m,\u001b[0m\u001b[0mimagen\u001b[0m\u001b[1;33m=\u001b[0m\u001b[0mfuente\u001b[0m\u001b[1;33m.\u001b[0m\u001b[0mread\u001b[0m\u001b[1;33m(\u001b[0m\u001b[1;33m)\u001b[0m\u001b[1;33m\u001b[0m\u001b[1;33m\u001b[0m\u001b[0m\n\u001b[0m\u001b[0;32m      4\u001b[0m     \u001b[0mimgenbn\u001b[0m\u001b[1;33m=\u001b[0m\u001b[0mcv2\u001b[0m\u001b[1;33m.\u001b[0m\u001b[0mcvtColor\u001b[0m\u001b[1;33m(\u001b[0m\u001b[0mimagen\u001b[0m\u001b[1;33m,\u001b[0m\u001b[0mcv2\u001b[0m\u001b[1;33m.\u001b[0m\u001b[0mCOLOR_BGR2GRAY\u001b[0m\u001b[1;33m)\u001b[0m\u001b[1;33m\u001b[0m\u001b[1;33m\u001b[0m\u001b[0m\n\u001b[0;32m      5\u001b[0m     \u001b[0mrostros\u001b[0m\u001b[1;33m=\u001b[0m\u001b[0mdetectacara\u001b[0m\u001b[1;33m.\u001b[0m\u001b[0mdetectMultiScale\u001b[0m\u001b[1;33m(\u001b[0m\u001b[0mimgenbn\u001b[0m\u001b[1;33m,\u001b[0m\u001b[1;36m1.3\u001b[0m\u001b[1;33m,\u001b[0m\u001b[1;36m5\u001b[0m\u001b[1;33m)\u001b[0m\u001b[1;33m\u001b[0m\u001b[1;33m\u001b[0m\u001b[0m\n",
      "\u001b[1;31mKeyboardInterrupt\u001b[0m: "
     ]
    }
   ],
   "source": [
    "while(True):\n",
    "\n",
    "    ret,imagen=fuente.read()\n",
    "    imgenbn=cv2.cvtColor(imagen,cv2.COLOR_BGR2GRAY)\n",
    "    rostros=detectacara.detectMultiScale(imgenbn,1.3,5)  \n",
    "\n",
    "    for x,y,w,h in rostros:\n",
    "    \n",
    "        imagenrostro=imgenbn[y:y+w,x:x+w]\n",
    "        resized=cv2.resize(imagenrostro,(100,100))\n",
    "        normalized=resized/255.0\n",
    "        reshaped=np.reshape(normalized,(1,100,100,1))\n",
    "        resultado=modelo.predict(reshaped)\n",
    "\n",
    "        label=np.argmax(resultado,axis=1)[0]\n",
    "      \n",
    "        cv2.rectangle(imagen,(x,y),(x+w,y+h),Rojooverde[label],2)\n",
    "        cv2.rectangle(imagen,(x,y-40),(x+w,y),Rojooverde[label],-1)\n",
    "        cv2.putText(imagen, IDs[label], (x, y-10),cv2.FONT_HERSHEY_SIMPLEX,0.8,(255,255,255),2)\n",
    "        \n",
    "        \n",
    "    cv2.imshow('WEBCAM PLAZA COMERCIAL',imagen)\n",
    "    ya=cv2.waitKey(1)\n",
    "    \n",
    "    if(ya==27):\n",
    "        break\n",
    "        \n",
    "cv2.destroyAllWindows()\n",
    "fuente.release()"
   ]
  },
  {
   "cell_type": "code",
   "execution_count": null,
   "metadata": {},
   "outputs": [],
   "source": []
  },
  {
   "cell_type": "code",
   "execution_count": null,
   "metadata": {},
   "outputs": [],
   "source": []
  },
  {
   "cell_type": "code",
   "execution_count": null,
   "metadata": {},
   "outputs": [],
   "source": []
  }
 ],
 "metadata": {
  "colab": {
   "collapsed_sections": [],
   "provenance": []
  },
  "kernelspec": {
   "display_name": "tf",
   "language": "python",
   "name": "tf"
  },
  "language_info": {
   "codemirror_mode": {
    "name": "ipython",
    "version": 3
   },
   "file_extension": ".py",
   "mimetype": "text/x-python",
   "name": "python",
   "nbconvert_exporter": "python",
   "pygments_lexer": "ipython3",
   "version": "3.7.13"
  }
 },
 "nbformat": 4,
 "nbformat_minor": 1
}
