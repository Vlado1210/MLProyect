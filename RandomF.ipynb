{
 "cells": [
  {
   "cell_type": "code",
   "execution_count": 1,
   "id": "7a44e96b",
   "metadata": {},
   "outputs": [
    {
     "name": "stdout",
     "output_type": "stream",
     "text": [
      "[0, 1]\n",
      "['with mask', 'without mask']\n",
      "{'with mask': 0, 'without mask': 1}\n"
     ]
    }
   ],
   "source": [
    "#RANDOM FOREST\n",
    "import cv2,os\n",
    "\n",
    "#Este bloque de código genera un diccionario de python con índice como valores y nombres de las carpetas como claves.\n",
    "\n",
    "ubidata='dataset'\n",
    "grupos=os.listdir(ubidata)\n",
    "identifier=[i for i in range(len(grupos))]\n",
    "\n",
    "groupandID=dict(zip(grupos,identifier))\n",
    "\n",
    "print(identifier)\n",
    "print(grupos)\n",
    "print(groupandID)"
   ]
  },
  {
   "cell_type": "code",
   "execution_count": 2,
   "id": "c6b82cb0",
   "metadata": {},
   "outputs": [],
   "source": [
    "data=[]\n",
    "target=[]\n",
    "tamañoimagen=100\n",
    "\n",
    "\n",
    "for category in grupos:\n",
    "    ubicarpetag=os.path.join(ubidata,category)\n",
    "    listanomimagenes=os.listdir(ubicarpetag)\n",
    "        \n",
    "    for nombreimagen in listanomimagenes:\n",
    "        ubiimagen=os.path.join(ubicarpetag,nombreimagen)\n",
    "        imagen=cv2.imread(ubiimagen)\n",
    "\n",
    "        try:\n",
    "            #Aqui se convierte la imagen a escala de grises\n",
    "            imgenbn=cv2.cvtColor(imagen,cv2.COLOR_BGR2GRAY)           \n",
    "            #Aqui cambiamos el tamaño de la escala de grises a 100x100\n",
    "            #necesitamos un tamaño común fijo para todas las imágenes en el conjunto de datos\n",
    "            resized=cv2.resize(imgenbn,(tamañoimagen,tamañoimagen))\n",
    "            data.append(resized)\n",
    "            target.append(groupandID[category])\n",
    "            #juntamos la imagen y la etiqueta (categorizada) en la lista (conjunto de datos)\n",
    "\n",
    "        except Exception as e:\n",
    "            print('Exception:',e)\n",
    "            #si ocurre alguna excepción, la excepción se imprimirá aquí. Y pasa a la siguiente imagen."
   ]
  },
  {
   "cell_type": "code",
   "execution_count": 3,
   "id": "8baab655",
   "metadata": {},
   "outputs": [],
   "source": [
    "import numpy as np\n",
    "\n",
    "target=np.array(target)\n",
    "data=np.array(data)/255.0\n",
    "data=np.reshape(data,(data.shape[0],tamañoimagen,tamañoimagen,1))\n",
    "\n",
    "from keras.utils import np_utils\n",
    "\n",
    "new_target=np_utils.to_categorical(target)"
   ]
  },
  {
   "cell_type": "code",
   "execution_count": 4,
   "id": "3ba0b00b",
   "metadata": {},
   "outputs": [],
   "source": [
    "np.save('data',data)\n",
    "np.save('target',new_target)"
   ]
  },
  {
   "cell_type": "code",
   "execution_count": 5,
   "id": "7c496e59",
   "metadata": {},
   "outputs": [],
   "source": [
    "import numpy as np\n",
    "\n",
    "data=np.load('data.npy')\n",
    "target=np.load('target.npy')"
   ]
  },
  {
   "cell_type": "code",
   "execution_count": 6,
   "id": "ff8beee5",
   "metadata": {},
   "outputs": [],
   "source": [
    "from sklearn.ensemble import RandomForestClassifier"
   ]
  },
  {
   "cell_type": "code",
   "execution_count": 7,
   "id": "cf8a17da",
   "metadata": {},
   "outputs": [],
   "source": [
    "model=RandomForestClassifier()"
   ]
  },
  {
   "cell_type": "code",
   "execution_count": 8,
   "id": "05aa7702",
   "metadata": {},
   "outputs": [],
   "source": [
    "from sklearn.model_selection import train_test_split\n",
    "\n",
    "xdata,ydata,xtarget,ytarget=train_test_split(data,target,test_size=0.1)"
   ]
  },
  {
   "cell_type": "code",
   "execution_count": 9,
   "id": "5fc8f7d6",
   "metadata": {},
   "outputs": [
    {
     "data": {
      "text/plain": [
       "RandomForestClassifier()"
      ]
     },
     "execution_count": 9,
     "metadata": {},
     "output_type": "execute_result"
    }
   ],
   "source": [
    "#sklearn expects i/p to be 2d array-model.fit(x_train,y_train)=>reshape to 2d array\n",
    "nsamples, nx, ny, nrgb = xdata.shape\n",
    "x_train2 = xdata.reshape((nsamples,nx*ny*nrgb))\n",
    "nsamples, nx, ny, nrgb = ydata.shape\n",
    "x_target2 = ydata.reshape((nsamples,nx*ny*nrgb))\n",
    "model.fit(x_train2,xtarget)"
   ]
  },
  {
   "cell_type": "code",
   "execution_count": 10,
   "id": "6f7c321a",
   "metadata": {},
   "outputs": [],
   "source": [
    "y_pred=model.predict(x_target2)"
   ]
  },
  {
   "cell_type": "code",
   "execution_count": 11,
   "id": "854fc074",
   "metadata": {},
   "outputs": [
    {
     "name": "stdout",
     "output_type": "stream",
     "text": [
      "              precision    recall  f1-score   support\n",
      "\n",
      "           0       0.93      0.96      0.95        27\n",
      "           1       0.98      0.96      0.97        50\n",
      "\n",
      "   micro avg       0.96      0.96      0.96        77\n",
      "   macro avg       0.95      0.96      0.96        77\n",
      "weighted avg       0.96      0.96      0.96        77\n",
      " samples avg       0.96      0.96      0.96        77\n",
      "\n"
     ]
    }
   ],
   "source": [
    "from sklearn.metrics import accuracy_score,confusion_matrix,classification_report\n",
    "accuracy_score(y_pred,ytarget)\n",
    "print(classification_report(y_pred,ytarget))"
   ]
  },
  {
   "cell_type": "code",
   "execution_count": null,
   "id": "dd5f02b9",
   "metadata": {},
   "outputs": [],
   "source": []
  }
 ],
 "metadata": {
  "kernelspec": {
   "display_name": "tf",
   "language": "python",
   "name": "tf"
  },
  "language_info": {
   "codemirror_mode": {
    "name": "ipython",
    "version": 3
   },
   "file_extension": ".py",
   "mimetype": "text/x-python",
   "name": "python",
   "nbconvert_exporter": "python",
   "pygments_lexer": "ipython3",
   "version": "3.7.13"
  }
 },
 "nbformat": 4,
 "nbformat_minor": 5
}
